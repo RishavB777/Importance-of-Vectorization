{
    "cells": [
        {
            "cell_type": "code",
            "execution_count": 1,
            "source": [
                "import numpy as np\r\n",
                "\r\n",
                "a = np.random.rand(1000000)\r\n",
                "b = np.random.rand(1000000)\r\n"
            ],
            "outputs": [],
            "metadata": {}
        },
        {
            "cell_type": "code",
            "execution_count": 2,
            "source": [
                "import time\r\n",
                "tic = time.time()\r\n",
                "c=np.dot(a,b)\r\n",
                "toc = time.time()\r\n",
                "print(\"Time taken in vectorized approach:\"+str(1000*(toc-tic))+\" ms\")\r\n",
                "print(\"Calculated value:\"+str(c))"
            ],
            "outputs": [
                {
                    "output_type": "stream",
                    "name": "stdout",
                    "text": [
                        "Time taken in vectorized approach:2.0029544830322266 ms\n",
                        "Calculated value:250347.69154691338\n"
                    ]
                }
            ],
            "metadata": {}
        },
        {
            "cell_type": "code",
            "execution_count": 3,
            "source": [
                "c=0\r\n",
                "tic = time.time()\r\n",
                "for i in range(1000000):\r\n",
                "    c+=a[i]*b[i]\r\n",
                "toc = time.time()\r\n",
                "print(\"Time taken in vectorized approach:\"+str(1000*(toc-tic))+\" ms\")\r\n",
                "print(\"Calculated value:\"+str(c))"
            ],
            "outputs": [
                {
                    "output_type": "stream",
                    "name": "stdout",
                    "text": [
                        "Time taken in vectorized approach:505.10621070861816 ms\n",
                        "Calculated value:250347.69154692133\n"
                    ]
                }
            ],
            "metadata": {}
        },
        {
            "cell_type": "code",
            "execution_count": null,
            "source": [],
            "outputs": [],
            "metadata": {}
        }
    ],
    "metadata": {
        "orig_nbformat": 4,
        "language_info": {
            "name": "python",
            "version": "3.7.9",
            "mimetype": "text/x-python",
            "codemirror_mode": {
                "name": "ipython",
                "version": 3
            },
            "pygments_lexer": "ipython3",
            "nbconvert_exporter": "python",
            "file_extension": ".py"
        },
        "kernelspec": {
            "name": "python3",
            "display_name": "Python 3.7.9 64-bit"
        },
        "interpreter": {
            "hash": "8c46a0ad386585c360774e94137f7269d7be81cbda6f37ed814736c9ee1b4da3"
        }
    },
    "nbformat": 4,
    "nbformat_minor": 2
}